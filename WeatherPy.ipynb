{
 "cells": [
  {
   "cell_type": "code",
   "execution_count": 22,
   "id": "556a3a60",
   "metadata": {},
   "outputs": [],
   "source": [
    "from citipy import citipy\n",
    "import requests\n",
    "# Import the API key\n",
    "from config import weather_api_key\n",
    "from datetime import datetime\n",
    "import time\n",
    "import numpy as np\n",
    "import pandas as pd"
   ]
  },
  {
   "cell_type": "code",
   "execution_count": 3,
   "id": "903ca63d",
   "metadata": {},
   "outputs": [
    {
     "data": {
      "text/plain": [
       "<zip at 0x187e07202c8>"
      ]
     },
     "execution_count": 3,
     "metadata": {},
     "output_type": "execute_result"
    }
   ],
   "source": [
    "# Create a set of random latitude and longitude combinations.\n",
    "lats = np.random.uniform(low=-90.000, high=90.000, size=50)\n",
    "lngs = np.random.uniform(low=-180.000, high=180.000, size=50)\n",
    "lat_lngs = zip(lats, lngs)\n",
    "lat_lngs"
   ]
  },
  {
   "cell_type": "code",
   "execution_count": 4,
   "id": "d3ac3c11",
   "metadata": {},
   "outputs": [],
   "source": [
    "# Add the latitudes and longitudes to a list.\n",
    "coordinates = list(lat_lngs)\n",
    "city_data = []"
   ]
  },
  {
   "cell_type": "code",
   "execution_count": 5,
   "id": "383f255a",
   "metadata": {},
   "outputs": [
    {
     "name": "stdout",
     "output_type": "stream",
     "text": [
      "-48.941098614452244 88.39392203921102\n",
      "6.245987007028148 -105.59553900899789\n",
      "-36.3417538038114 119.44172616006892\n",
      "55.58583361763675 -37.89952888819724\n",
      "-3.412363920259793 81.98497570198168\n",
      "83.71474679253467 -170.98894193104044\n",
      "-40.852445311876 -176.75608386659223\n",
      "-84.49634300287927 106.38204156354703\n",
      "-39.26648594088941 -24.55034510530973\n",
      "-30.71506679033878 156.3086707626967\n",
      "-24.052849148730502 -20.971245130494367\n",
      "-17.68380768813681 -0.3093454955935613\n",
      "-25.636209314618156 -44.33547139130863\n",
      "75.8327839436158 -171.6566457997496\n",
      "-32.45385370114955 129.22908670728657\n",
      "27.33141198100364 -47.18874263385035\n",
      "-16.982155872594035 -131.71756212124365\n",
      "-69.6690740764399 56.11277645987681\n",
      "26.913634347761928 -12.470631650457733\n",
      "49.25704877498279 106.65918396373235\n",
      "-82.2921309618922 -177.32764292362722\n",
      "-33.23372736042274 -25.54361849632579\n",
      "36.53555215171677 61.32197636053479\n",
      "9.173049994377763 -34.789786602602504\n",
      "-5.307452539457643 -108.96663039892476\n",
      "-36.57466347870993 175.98840215437383\n",
      "-85.19082620028549 96.21642355458454\n",
      "47.03877079886357 144.2660606304617\n",
      "-44.17862221596698 126.95258976528953\n",
      "-82.6533156058292 -138.49622316658395\n",
      "37.03987600410997 57.30235282073153\n",
      "8.428795705747092 -84.47125431984897\n",
      "71.20591754022269 172.3238201759856\n",
      "87.48484945523049 52.19382394347613\n",
      "-29.225208015928715 71.13599059756373\n",
      "22.328293064550763 94.42405056544749\n",
      "38.12610433136595 -71.61801312519349\n",
      "81.55550154534308 170.47244008683788\n",
      "70.352097338042 57.27382251378282\n",
      "65.81710812784439 38.80879372782408\n",
      "64.94251512911114 93.65948121547791\n",
      "38.11661072773143 -117.26499905325952\n",
      "87.87302059843023 -24.109886149375455\n",
      "84.93036355303383 146.34814468853898\n",
      "42.83001870112966 -78.17690857352294\n",
      "-38.17854481331216 -145.96584631166212\n",
      "81.21416562075586 25.45092701825405\n",
      "39.68384389072256 -11.869127405596998\n",
      "45.25914002127743 -38.38845599361616\n",
      "72.17260905373274 97.17448609501594\n"
     ]
    }
   ],
   "source": [
    "# Use the print() function to display the latitude and longitude combinations.\n",
    "for coordinate in coordinates:\n",
    "    print(coordinate[0], coordinate[1])"
   ]
  },
  {
   "cell_type": "code",
   "execution_count": 6,
   "id": "8e418c25",
   "metadata": {},
   "outputs": [
    {
     "name": "stdout",
     "output_type": "stream",
     "text": [
      "busselton au\n",
      "acapulco mx\n",
      "albany au\n",
      "nanortalik gl\n",
      "hithadhoo mv\n",
      "mys shmidta ru\n",
      "vaini to\n",
      "albany au\n",
      "arraial do cabo br\n",
      "coffs harbour au\n",
      "jamestown sh\n",
      "jamestown sh\n",
      "ilhabela br\n",
      "lavrentiya ru\n",
      "flinders au\n",
      "codrington ag\n",
      "rikitea pf\n",
      "taolanaro mg\n",
      "puerto del rosario es\n",
      "chikoy ru\n",
      "vaini to\n",
      "sao joao da barra br\n",
      "sarakhs ir\n",
      "sao filipe cv\n",
      "puerto ayora ec\n",
      "whitianga nz\n",
      "albany au\n",
      "novikovo ru\n",
      "esperance au\n",
      "rikitea pf\n",
      "esfarayen ir\n",
      "quepos cr\n",
      "komsomolskiy ru\n",
      "belushya guba ru\n",
      "bambous virieux mu\n",
      "monywa mm\n",
      "mastic beach us\n",
      "pevek ru\n",
      "usinsk ru\n",
      "severodvinsk ru\n",
      "baykit ru\n",
      "fallon us\n",
      "illoqqortoormiut gl\n",
      "chokurdakh ru\n",
      "batavia us\n",
      "mataura pf\n",
      "havoysund no\n",
      "peniche pt\n",
      "ribeira grande pt\n",
      "khatanga ru\n"
     ]
    }
   ],
   "source": [
    "# Use the print() function to display the latitude and longitude combinations.\n",
    "for coordinate in coordinates:\n",
    "    print(citipy.nearest_city(coordinate[0], coordinate[1]).city_name,\n",
    "          citipy.nearest_city(coordinate[0], coordinate[1]).country_code)"
   ]
  },
  {
   "cell_type": "code",
   "execution_count": 7,
   "id": "a1e05370",
   "metadata": {},
   "outputs": [
    {
     "data": {
      "text/plain": [
       "45"
      ]
     },
     "execution_count": 7,
     "metadata": {},
     "output_type": "execute_result"
    }
   ],
   "source": [
    "# Create a list for holding the cities.\n",
    "cities = []\n",
    "# Identify the nearest city for each latitude and longitude combination.\n",
    "for coordinate in coordinates:\n",
    "    city = citipy.nearest_city(coordinate[0], coordinate[1]).city_name\n",
    "\n",
    "    # If the city is unique, then we will add it to the cities list.\n",
    "    if city not in cities:\n",
    "        cities.append(city)\n",
    "# Print the city count to confirm sufficient count.\n",
    "len(cities)"
   ]
  },
  {
   "cell_type": "code",
   "execution_count": 9,
   "id": "f7b1c0ad",
   "metadata": {},
   "outputs": [
    {
     "name": "stdout",
     "output_type": "stream",
     "text": [
      "http://api.openweathermap.org/data/2.5/weather?units=Imperial&APPID=6e549b72a69d93d01cd31a871ed9e8f3\n"
     ]
    }
   ],
   "source": [
    "# Starting URL for Weather Map API Call.\n",
    "url = \"http://api.openweathermap.org/data/2.5/weather?units=Imperial&APPID=\" + weather_api_key\n",
    "print(url)"
   ]
  },
  {
   "cell_type": "code",
   "execution_count": 10,
   "id": "687a9db9",
   "metadata": {},
   "outputs": [
    {
     "name": "stdout",
     "output_type": "stream",
     "text": [
      "http://api.openweathermap.org/data/2.5/weather?units=Imperial&APPID=6e549b72a69d93d01cd31a871ed9e8f3&q=Boston\n"
     ]
    }
   ],
   "source": [
    "# Create an endpoint URL for a city.\n",
    "city_url = url + \"&q=\" + \"Boston\"\n",
    "print(city_url)"
   ]
  },
  {
   "cell_type": "code",
   "execution_count": 11,
   "id": "f9a531e4",
   "metadata": {},
   "outputs": [
    {
     "data": {
      "text/plain": [
       "<Response [200]>"
      ]
     },
     "execution_count": 11,
     "metadata": {},
     "output_type": "execute_result"
    }
   ],
   "source": [
    "# Make a 'Get' request for the city weather.\n",
    "city_weather = requests.get(city_url)\n",
    "city_weather"
   ]
  },
  {
   "cell_type": "code",
   "execution_count": 12,
   "id": "7ece5c53",
   "metadata": {},
   "outputs": [
    {
     "data": {
      "text/plain": [
       "'{\"coord\":{\"lon\":-71.0598,\"lat\":42.3584},\"weather\":[{\"id\":804,\"main\":\"Clouds\",\"description\":\"overcast clouds\",\"icon\":\"04d\"}],\"base\":\"stations\",\"main\":{\"temp\":57.24,\"feels_like\":57.07,\"temp_min\":55.11,\"temp_max\":59.4,\"pressure\":1014,\"humidity\":94},\"visibility\":10000,\"wind\":{\"speed\":13.8,\"deg\":10},\"clouds\":{\"all\":100},\"dt\":1664998979,\"sys\":{\"type\":2,\"id\":2013408,\"country\":\"US\",\"sunrise\":1664966731,\"sunset\":1665008372},\"timezone\":-14400,\"id\":4930956,\"name\":\"Boston\",\"cod\":200}'"
      ]
     },
     "execution_count": 12,
     "metadata": {},
     "output_type": "execute_result"
    }
   ],
   "source": [
    "# Create an endpoint URL for a city.\n",
    "city_url = url + \"&q=\" + \"Boston\"\n",
    "city_weather = requests.get(city_url)\n",
    "city_weather.text"
   ]
  },
  {
   "cell_type": "code",
   "execution_count": 13,
   "id": "04b4c7d8",
   "metadata": {},
   "outputs": [
    {
     "data": {
      "text/plain": [
       "{'coord': {'lon': -71.0598, 'lat': 42.3584},\n",
       " 'weather': [{'id': 804,\n",
       "   'main': 'Clouds',\n",
       "   'description': 'overcast clouds',\n",
       "   'icon': '04d'}],\n",
       " 'base': 'stations',\n",
       " 'main': {'temp': 57.24,\n",
       "  'feels_like': 57.07,\n",
       "  'temp_min': 55.11,\n",
       "  'temp_max': 59.4,\n",
       "  'pressure': 1014,\n",
       "  'humidity': 94},\n",
       " 'visibility': 10000,\n",
       " 'wind': {'speed': 13.8, 'deg': 10},\n",
       " 'clouds': {'all': 100},\n",
       " 'dt': 1664998979,\n",
       " 'sys': {'type': 2,\n",
       "  'id': 2013408,\n",
       "  'country': 'US',\n",
       "  'sunrise': 1664966731,\n",
       "  'sunset': 1665008372},\n",
       " 'timezone': -14400,\n",
       " 'id': 4930956,\n",
       " 'name': 'Boston',\n",
       " 'cod': 200}"
      ]
     },
     "execution_count": 13,
     "metadata": {},
     "output_type": "execute_result"
    }
   ],
   "source": [
    "# Create an endpoint URL for a city.\n",
    "city_url = url + \"&q=\" + \"Boston\"\n",
    "city_weather = requests.get(city_url)\n",
    "city_weather.json()"
   ]
  },
  {
   "cell_type": "code",
   "execution_count": 14,
   "id": "84acbbc3",
   "metadata": {},
   "outputs": [
    {
     "data": {
      "text/plain": [
       "{'coord': {'lon': -71.0598, 'lat': 42.3584},\n",
       " 'weather': [{'id': 804,\n",
       "   'main': 'Clouds',\n",
       "   'description': 'overcast clouds',\n",
       "   'icon': '04d'}],\n",
       " 'base': 'stations',\n",
       " 'main': {'temp': 57.24,\n",
       "  'feels_like': 57.07,\n",
       "  'temp_min': 55.11,\n",
       "  'temp_max': 59.4,\n",
       "  'pressure': 1014,\n",
       "  'humidity': 94},\n",
       " 'visibility': 10000,\n",
       " 'wind': {'speed': 13.8, 'deg': 10},\n",
       " 'clouds': {'all': 100},\n",
       " 'dt': 1664998979,\n",
       " 'sys': {'type': 2,\n",
       "  'id': 2013408,\n",
       "  'country': 'US',\n",
       "  'sunrise': 1664966731,\n",
       "  'sunset': 1665008372},\n",
       " 'timezone': -14400,\n",
       " 'id': 4930956,\n",
       " 'name': 'Boston',\n",
       " 'cod': 200}"
      ]
     },
     "execution_count": 14,
     "metadata": {},
     "output_type": "execute_result"
    }
   ],
   "source": [
    "# Create an endpoint URL for a city.\n",
    "city_url = url + \"&q=\" + \"Boston\"\n",
    "city_weather = requests.get(city_url)\n",
    "city_weather.json()"
   ]
  },
  {
   "cell_type": "code",
   "execution_count": 15,
   "id": "2667a09c",
   "metadata": {},
   "outputs": [],
   "source": [
    "# Get the JSON data.\n",
    "boston_data = city_weather.json()"
   ]
  },
  {
   "cell_type": "code",
   "execution_count": 16,
   "id": "e42b2bb4",
   "metadata": {},
   "outputs": [
    {
     "data": {
      "text/plain": [
       "{'type': 2,\n",
       " 'id': 2013408,\n",
       " 'country': 'US',\n",
       " 'sunrise': 1664966731,\n",
       " 'sunset': 1665008372}"
      ]
     },
     "execution_count": 16,
     "metadata": {},
     "output_type": "execute_result"
    }
   ],
   "source": [
    "boston_data[\"sys\"]"
   ]
  },
  {
   "cell_type": "code",
   "execution_count": 17,
   "id": "66a901b3",
   "metadata": {},
   "outputs": [
    {
     "data": {
      "text/plain": [
       "'US'"
      ]
     },
     "execution_count": 17,
     "metadata": {},
     "output_type": "execute_result"
    }
   ],
   "source": [
    "boston_data[\"sys\"][\"country\"]"
   ]
  },
  {
   "cell_type": "code",
   "execution_count": 18,
   "id": "fa37f7ce",
   "metadata": {},
   "outputs": [
    {
     "name": "stdout",
     "output_type": "stream",
     "text": [
      "42.3584 -71.0598 59.4 94 100 13.8\n"
     ]
    }
   ],
   "source": [
    "lat = boston_data[\"coord\"][\"lat\"]\n",
    "lng = boston_data[\"coord\"][\"lon\"]\n",
    "max_temp = boston_data[\"main\"][\"temp_max\"]\n",
    "humidity = boston_data[\"main\"][\"humidity\"]\n",
    "clouds = boston_data[\"clouds\"][\"all\"]\n",
    "wind = boston_data[\"wind\"][\"speed\"]\n",
    "print(lat, lng, max_temp, humidity, clouds, wind)"
   ]
  },
  {
   "cell_type": "code",
   "execution_count": 19,
   "id": "f8ea0ccc",
   "metadata": {},
   "outputs": [
    {
     "data": {
      "text/plain": [
       "'2022-10-05 19:42:59'"
      ]
     },
     "execution_count": 19,
     "metadata": {},
     "output_type": "execute_result"
    }
   ],
   "source": [
    "# Get the date from the JSON file.\n",
    "date = boston_data[\"dt\"]\n",
    "# Convert the UTC date to a date format with year, month, day, hours, minutes, and seconds.\n",
    "datetime.utcfromtimestamp(date).strftime('%Y-%m-%d %H:%M:%S')"
   ]
  },
  {
   "cell_type": "code",
   "execution_count": 20,
   "id": "8830419f",
   "metadata": {},
   "outputs": [
    {
     "name": "stdout",
     "output_type": "stream",
     "text": [
      "Beginning Data Retrieval     \n",
      "-----------------------------\n",
      "Processing Record 1 of Set 1 | busselton\n",
      "Processing Record 2 of Set 1 | acapulco\n",
      "Processing Record 3 of Set 1 | albany\n",
      "Processing Record 4 of Set 1 | nanortalik\n",
      "Processing Record 5 of Set 1 | hithadhoo\n",
      "Processing Record 6 of Set 1 | mys shmidta\n",
      "City not found. Skipping...\n",
      "Processing Record 7 of Set 1 | vaini\n",
      "Processing Record 8 of Set 1 | arraial do cabo\n",
      "Processing Record 9 of Set 1 | coffs harbour\n",
      "Processing Record 10 of Set 1 | jamestown\n",
      "Processing Record 11 of Set 1 | ilhabela\n",
      "Processing Record 12 of Set 1 | lavrentiya\n",
      "Processing Record 13 of Set 1 | flinders\n",
      "Processing Record 14 of Set 1 | codrington\n",
      "Processing Record 15 of Set 1 | rikitea\n",
      "Processing Record 16 of Set 1 | taolanaro\n",
      "City not found. Skipping...\n",
      "Processing Record 17 of Set 1 | puerto del rosario\n",
      "Processing Record 18 of Set 1 | chikoy\n",
      "City not found. Skipping...\n",
      "Processing Record 19 of Set 1 | sao joao da barra\n",
      "Processing Record 20 of Set 1 | sarakhs\n",
      "Processing Record 21 of Set 1 | sao filipe\n",
      "Processing Record 22 of Set 1 | puerto ayora\n",
      "Processing Record 23 of Set 1 | whitianga\n",
      "Processing Record 24 of Set 1 | novikovo\n",
      "Processing Record 25 of Set 1 | esperance\n",
      "Processing Record 26 of Set 1 | esfarayen\n",
      "Processing Record 27 of Set 1 | quepos\n",
      "Processing Record 28 of Set 1 | komsomolskiy\n",
      "Processing Record 29 of Set 1 | belushya guba\n",
      "City not found. Skipping...\n",
      "Processing Record 30 of Set 1 | bambous virieux\n",
      "Processing Record 31 of Set 1 | monywa\n",
      "Processing Record 32 of Set 1 | mastic beach\n",
      "Processing Record 33 of Set 1 | pevek\n",
      "Processing Record 34 of Set 1 | usinsk\n",
      "Processing Record 35 of Set 1 | severodvinsk\n",
      "Processing Record 36 of Set 1 | baykit\n",
      "Processing Record 37 of Set 1 | fallon\n",
      "Processing Record 38 of Set 1 | illoqqortoormiut\n",
      "City not found. Skipping...\n",
      "Processing Record 39 of Set 1 | chokurdakh\n",
      "Processing Record 40 of Set 1 | batavia\n",
      "Processing Record 41 of Set 1 | mataura\n",
      "Processing Record 42 of Set 1 | havoysund\n",
      "Processing Record 43 of Set 1 | peniche\n",
      "Processing Record 44 of Set 1 | ribeira grande\n",
      "Processing Record 45 of Set 1 | khatanga\n",
      "-----------------------------\n",
      "Data Retrieval Complete      \n",
      "-----------------------------\n"
     ]
    }
   ],
   "source": [
    "# Create an empty list to hold the weather data.\n",
    "city_data = []\n",
    "# Print the beginning of the logging.\n",
    "print(\"Beginning Data Retrieval     \")\n",
    "print(\"-----------------------------\")\n",
    "\n",
    "# Create counters.\n",
    "record_count = 1\n",
    "set_count = 1\n",
    "\n",
    "\n",
    "\n",
    "# Loop through all the cities in the list.\n",
    "for i, city in enumerate(cities):\n",
    "\n",
    "    # Group cities in sets of 50 for logging purposes.\n",
    "    if (i % 50 == 0 and i >= 50):\n",
    "        set_count += 1\n",
    "        record_count = 1\n",
    "        time.sleep(60)\n",
    "\n",
    "    # Create endpoint URL with each city.\n",
    "    city_url = url + \"&q=\" + city.replace(\" \",\"+\")\n",
    "\n",
    "    # Log the URL, record, and set numbers and the city.\n",
    "    print(f\"Processing Record {record_count} of Set {set_count} | {city}\")\n",
    "    # Add 1 to the record count.\n",
    "    record_count += 1\n",
    "    \n",
    "# Run an API request for each of the cities.\n",
    "    try:\n",
    "        # Parse the JSON and retrieve data.\n",
    "        city_weather = requests.get(city_url).json()\n",
    "        # Parse out the needed data.\n",
    "        city_lat = city_weather[\"coord\"][\"lat\"]\n",
    "        city_lng = city_weather[\"coord\"][\"lon\"]\n",
    "        city_max_temp = city_weather[\"main\"][\"temp_max\"]\n",
    "        city_humidity = city_weather[\"main\"][\"humidity\"]\n",
    "        city_clouds = city_weather[\"clouds\"][\"all\"]\n",
    "        city_wind = city_weather[\"wind\"][\"speed\"]\n",
    "        city_country = city_weather[\"sys\"][\"country\"]\n",
    "        # convert the date to ISO standard\n",
    "        city_date = datetime.utcfromtimestamp(city_weather[\"dt\"]).strftime('%Y-%m-%d %H:%M:%S')\n",
    "        # append the city information into city_data list\n",
    "        city_data.append({\"City\": city.title(),\n",
    "                          \"Lat\": city_lat,\n",
    "                          \"Lng\": city_lng,\n",
    "                          \"Max Temp\": city_max_temp,\n",
    "                          \"Humidity\": city_humidity,\n",
    "                          \"Cloudiness\": city_clouds,\n",
    "                          \"Wind Speed\": city_wind,\n",
    "                          \"Country\": city_country,\n",
    "                          \"Date\": city_date})\n",
    "\n",
    "# if an error is experienced, skip the city\n",
    "    except:\n",
    "        print(\"City not found. Skipping...\")\n",
    "        pass\n",
    "\n",
    "# indicate that Data Loading is complete\n",
    "print(\"-----------------------------\")\n",
    "print(\"Data Retrieval Complete      \")\n",
    "print(\"-----------------------------\")"
   ]
  },
  {
   "cell_type": "code",
   "execution_count": 25,
   "id": "dab281a5",
   "metadata": {},
   "outputs": [
    {
     "data": {
      "text/html": [
       "<div>\n",
       "<style scoped>\n",
       "    .dataframe tbody tr th:only-of-type {\n",
       "        vertical-align: middle;\n",
       "    }\n",
       "\n",
       "    .dataframe tbody tr th {\n",
       "        vertical-align: top;\n",
       "    }\n",
       "\n",
       "    .dataframe thead th {\n",
       "        text-align: right;\n",
       "    }\n",
       "</style>\n",
       "<table border=\"1\" class=\"dataframe\">\n",
       "  <thead>\n",
       "    <tr style=\"text-align: right;\">\n",
       "      <th></th>\n",
       "      <th>City</th>\n",
       "      <th>Lat</th>\n",
       "      <th>Lng</th>\n",
       "      <th>Max Temp</th>\n",
       "      <th>Humidity</th>\n",
       "      <th>Cloudiness</th>\n",
       "      <th>Wind Speed</th>\n",
       "      <th>Country</th>\n",
       "      <th>Date</th>\n",
       "    </tr>\n",
       "  </thead>\n",
       "  <tbody>\n",
       "    <tr>\n",
       "      <th>0</th>\n",
       "      <td>Busselton</td>\n",
       "      <td>-33.6500</td>\n",
       "      <td>115.3333</td>\n",
       "      <td>48.60</td>\n",
       "      <td>63</td>\n",
       "      <td>12</td>\n",
       "      <td>8.50</td>\n",
       "      <td>AU</td>\n",
       "      <td>2022-10-05 19:41:29</td>\n",
       "    </tr>\n",
       "    <tr>\n",
       "      <th>1</th>\n",
       "      <td>Acapulco</td>\n",
       "      <td>16.8634</td>\n",
       "      <td>-99.8901</td>\n",
       "      <td>87.62</td>\n",
       "      <td>62</td>\n",
       "      <td>40</td>\n",
       "      <td>4.61</td>\n",
       "      <td>MX</td>\n",
       "      <td>2022-10-05 19:42:22</td>\n",
       "    </tr>\n",
       "    <tr>\n",
       "      <th>2</th>\n",
       "      <td>Albany</td>\n",
       "      <td>42.6001</td>\n",
       "      <td>-73.9662</td>\n",
       "      <td>64.33</td>\n",
       "      <td>77</td>\n",
       "      <td>98</td>\n",
       "      <td>3.78</td>\n",
       "      <td>US</td>\n",
       "      <td>2022-10-05 19:39:24</td>\n",
       "    </tr>\n",
       "    <tr>\n",
       "      <th>3</th>\n",
       "      <td>Nanortalik</td>\n",
       "      <td>60.1432</td>\n",
       "      <td>-45.2371</td>\n",
       "      <td>37.90</td>\n",
       "      <td>87</td>\n",
       "      <td>51</td>\n",
       "      <td>13.71</td>\n",
       "      <td>GL</td>\n",
       "      <td>2022-10-05 19:43:36</td>\n",
       "    </tr>\n",
       "    <tr>\n",
       "      <th>4</th>\n",
       "      <td>Hithadhoo</td>\n",
       "      <td>-0.6000</td>\n",
       "      <td>73.0833</td>\n",
       "      <td>82.27</td>\n",
       "      <td>74</td>\n",
       "      <td>100</td>\n",
       "      <td>18.43</td>\n",
       "      <td>MV</td>\n",
       "      <td>2022-10-05 19:43:36</td>\n",
       "    </tr>\n",
       "    <tr>\n",
       "      <th>5</th>\n",
       "      <td>Vaini</td>\n",
       "      <td>-21.2000</td>\n",
       "      <td>-175.2000</td>\n",
       "      <td>76.48</td>\n",
       "      <td>87</td>\n",
       "      <td>100</td>\n",
       "      <td>13.56</td>\n",
       "      <td>TO</td>\n",
       "      <td>2022-10-05 19:41:33</td>\n",
       "    </tr>\n",
       "    <tr>\n",
       "      <th>6</th>\n",
       "      <td>Arraial Do Cabo</td>\n",
       "      <td>-22.9661</td>\n",
       "      <td>-42.0278</td>\n",
       "      <td>71.46</td>\n",
       "      <td>78</td>\n",
       "      <td>100</td>\n",
       "      <td>10.36</td>\n",
       "      <td>BR</td>\n",
       "      <td>2022-10-05 19:41:30</td>\n",
       "    </tr>\n",
       "    <tr>\n",
       "      <th>7</th>\n",
       "      <td>Coffs Harbour</td>\n",
       "      <td>-30.3000</td>\n",
       "      <td>153.1333</td>\n",
       "      <td>59.13</td>\n",
       "      <td>88</td>\n",
       "      <td>100</td>\n",
       "      <td>1.14</td>\n",
       "      <td>AU</td>\n",
       "      <td>2022-10-05 19:43:37</td>\n",
       "    </tr>\n",
       "    <tr>\n",
       "      <th>8</th>\n",
       "      <td>Jamestown</td>\n",
       "      <td>42.0970</td>\n",
       "      <td>-79.2353</td>\n",
       "      <td>67.05</td>\n",
       "      <td>46</td>\n",
       "      <td>0</td>\n",
       "      <td>11.50</td>\n",
       "      <td>US</td>\n",
       "      <td>2022-10-05 19:40:21</td>\n",
       "    </tr>\n",
       "    <tr>\n",
       "      <th>9</th>\n",
       "      <td>Ilhabela</td>\n",
       "      <td>-23.7781</td>\n",
       "      <td>-45.3581</td>\n",
       "      <td>69.67</td>\n",
       "      <td>91</td>\n",
       "      <td>82</td>\n",
       "      <td>7.29</td>\n",
       "      <td>BR</td>\n",
       "      <td>2022-10-05 19:43:37</td>\n",
       "    </tr>\n",
       "  </tbody>\n",
       "</table>\n",
       "</div>"
      ],
      "text/plain": [
       "              City      Lat       Lng  Max Temp  Humidity  Cloudiness  \\\n",
       "0        Busselton -33.6500  115.3333     48.60        63          12   \n",
       "1         Acapulco  16.8634  -99.8901     87.62        62          40   \n",
       "2           Albany  42.6001  -73.9662     64.33        77          98   \n",
       "3       Nanortalik  60.1432  -45.2371     37.90        87          51   \n",
       "4        Hithadhoo  -0.6000   73.0833     82.27        74         100   \n",
       "5            Vaini -21.2000 -175.2000     76.48        87         100   \n",
       "6  Arraial Do Cabo -22.9661  -42.0278     71.46        78         100   \n",
       "7    Coffs Harbour -30.3000  153.1333     59.13        88         100   \n",
       "8        Jamestown  42.0970  -79.2353     67.05        46           0   \n",
       "9         Ilhabela -23.7781  -45.3581     69.67        91          82   \n",
       "\n",
       "   Wind Speed Country                 Date  \n",
       "0        8.50      AU  2022-10-05 19:41:29  \n",
       "1        4.61      MX  2022-10-05 19:42:22  \n",
       "2        3.78      US  2022-10-05 19:39:24  \n",
       "3       13.71      GL  2022-10-05 19:43:36  \n",
       "4       18.43      MV  2022-10-05 19:43:36  \n",
       "5       13.56      TO  2022-10-05 19:41:33  \n",
       "6       10.36      BR  2022-10-05 19:41:30  \n",
       "7        1.14      AU  2022-10-05 19:43:37  \n",
       "8       11.50      US  2022-10-05 19:40:21  \n",
       "9        7.29      BR  2022-10-05 19:43:37  "
      ]
     },
     "execution_count": 25,
     "metadata": {},
     "output_type": "execute_result"
    }
   ],
   "source": [
    "# Convert the array of dictionaries to a Pandas DataFrame.\n",
    "city_data_df = pd.DataFrame(city_data)\n",
    "new_column_order = [\"column2\", \"column4\", \"column1\"]\n",
    "\n",
    "\n",
    "city_data_df.head(10)"
   ]
  },
  {
   "cell_type": "code",
   "execution_count": 27,
   "id": "124ec27f",
   "metadata": {},
   "outputs": [],
   "source": [
    "# Create the output file (CSV).\n",
    "output_data_file = \"weather_data/cities.csv\"\n",
    "\n",
    "# Export the City_Data into a CSV.\n",
    "city_data_df.to_csv(output_data_file, index_label=\"City_ID\")"
   ]
  },
  {
   "cell_type": "code",
   "execution_count": null,
   "id": "6a9dcb08",
   "metadata": {},
   "outputs": [],
   "source": []
  }
 ],
 "metadata": {
  "kernelspec": {
   "display_name": "PythonData",
   "language": "python",
   "name": "pythondata"
  },
  "language_info": {
   "codemirror_mode": {
    "name": "ipython",
    "version": 3
   },
   "file_extension": ".py",
   "mimetype": "text/x-python",
   "name": "python",
   "nbconvert_exporter": "python",
   "pygments_lexer": "ipython3",
   "version": "3.7.13"
  }
 },
 "nbformat": 4,
 "nbformat_minor": 5
}
